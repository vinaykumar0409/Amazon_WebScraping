{
  "cells": [
    {
      "cell_type": "code",
      "execution_count": null,
      "metadata": {
        "colab": {
          "base_uri": "https://localhost:8080/"
        },
        "id": "7U6wYKwrN0d4",
        "outputId": "1e179049-f181-47b8-ecd4-2bcdf21dd2bd"
      },
      "outputs": [
        {
          "name": "stdout",
          "output_type": "stream",
          "text": [
            "Collecting bs4\n",
            "  Downloading bs4-0.0.1.tar.gz (1.1 kB)\n",
            "  Preparing metadata (setup.py) ... \u001b[?25l\u001b[?25hdone\n",
            "Requirement already satisfied: requests in /usr/local/lib/python3.10/dist-packages (2.31.0)\n",
            "Collecting fake_useragent\n",
            "  Downloading fake_useragent-1.2.1-py3-none-any.whl (14 kB)\n",
            "Requirement already satisfied: beautifulsoup4 in /usr/local/lib/python3.10/dist-packages (from bs4) (4.11.2)\n",
            "Requirement already satisfied: charset-normalizer<4,>=2 in /usr/local/lib/python3.10/dist-packages (from requests) (3.2.0)\n",
            "Requirement already satisfied: idna<4,>=2.5 in /usr/local/lib/python3.10/dist-packages (from requests) (3.4)\n",
            "Requirement already satisfied: urllib3<3,>=1.21.1 in /usr/local/lib/python3.10/dist-packages (from requests) (2.0.4)\n",
            "Requirement already satisfied: certifi>=2017.4.17 in /usr/local/lib/python3.10/dist-packages (from requests) (2023.7.22)\n",
            "Requirement already satisfied: soupsieve>1.2 in /usr/local/lib/python3.10/dist-packages (from beautifulsoup4->bs4) (2.4.1)\n",
            "Building wheels for collected packages: bs4\n",
            "  Building wheel for bs4 (setup.py) ... \u001b[?25l\u001b[?25hdone\n",
            "  Created wheel for bs4: filename=bs4-0.0.1-py3-none-any.whl size=1256 sha256=9d395977adef40c3d19ee804e3206d0b9f87ead181aedd19b1a7158c3e60c470\n",
            "  Stored in directory: /root/.cache/pip/wheels/25/42/45/b773edc52acb16cd2db4cf1a0b47117e2f69bb4eb300ed0e70\n",
            "Successfully built bs4\n",
            "Installing collected packages: fake_useragent, bs4\n",
            "Successfully installed bs4-0.0.1 fake_useragent-1.2.1\n"
          ]
        }
      ],
      "source": [
        "pip install bs4 requests fake_useragent"
      ]
    },
    {
      "cell_type": "code",
      "execution_count": null,
      "metadata": {
        "id": "z9g2dMI5ZKi-"
      },
      "outputs": [],
      "source": [
        "from bs4 import BeautifulSoup\n",
        "import requests\n",
        "from fake_useragent import UserAgent\n",
        "import pandas as pd\n",
        "import numpy as np\n",
        "import re\n",
        "import time\n",
        "import random"
      ]
    },
    {
      "cell_type": "code",
      "execution_count": null,
      "metadata": {
        "id": "M2435UI6aWWb"
      },
      "outputs": [],
      "source": [
        "def ProductName(soup) :\n",
        "  p_name = ''\n",
        "  try :\n",
        "    p_name = soup.find('span', id = 'productTitle').get_text().strip()\n",
        "  except :\n",
        "    p_name = soup.find('span', class_ = 'a-size-large product-title-word-break').get_text().strip()\n",
        "\n",
        "  return p_name"
      ]
    },
    {
      "cell_type": "code",
      "execution_count": null,
      "metadata": {
        "id": "SO6w6TFTbRP0"
      },
      "outputs": [],
      "source": [
        "def ProductPrice(soup) :\n",
        "  p_price = ''\n",
        "  try :\n",
        "    p_price = soup.find('span', class_ = 'a-offscreen').get_text()\n",
        "  except :\n",
        "    p_price = soup.find('span', class_=\"a-price-whole\").get_text()\n",
        "\n",
        "  return p_price"
      ]
    },
    {
      "cell_type": "code",
      "execution_count": null,
      "metadata": {
        "id": "yYovUEBmb6Gn"
      },
      "outputs": [],
      "source": [
        "def ProductRating(soup):\n",
        "  p_rating = ''\n",
        "  try :\n",
        "    p_rating = soup.find('span', class_= \"a-size-medium a-color-base\").get_text()\n",
        "  except :\n",
        "    p_rating = soup.find('span', class_ = \"a-icon-alt\").get_text()\n",
        "\n",
        "  return p_rating"
      ]
    },
    {
      "cell_type": "code",
      "execution_count": null,
      "metadata": {
        "id": "zRqYk210b_mh"
      },
      "outputs": [],
      "source": [
        "def ProductRatingCount(soup) :\n",
        "  num_of_ratings = ''\n",
        "  try :\n",
        "    num_of_ratings = soup.find('span', class_ = 'a-size-base').get_text()\n",
        "  except :\n",
        "    num_of_ratings = soup.find('span', class_ = \"a-size-base a-color-secondary\").get_text()\n",
        "\n",
        "  return num_of_ratings"
      ]
    },
    {
      "cell_type": "code",
      "execution_count": null,
      "metadata": {
        "id": "u7KJMzC9cEJT"
      },
      "outputs": [],
      "source": [
        "def Description(soup) :\n",
        "  desc = ''\n",
        "  try :\n",
        "    disc_div = product_soup.find('div', id = 'feature-bullets')\n",
        "    description = disc_div.find_all('span', 'a-list-item')\n",
        "    if description : desc = description[1].get_text()\n",
        "  except :\n",
        "    desc = soup.find('span', class_ = \"a-size-small social-proofing-faceout-title-text\")\n",
        "    if desc :\n",
        "      desc = desc.get_text()\n",
        "  return desc"
      ]
    },
    {
      "cell_type": "code",
      "execution_count": null,
      "metadata": {
        "id": "Ko64zo8zcKBw"
      },
      "outputs": [],
      "source": [
        "def ProductManufacturer(soup) :\n",
        "  p_manufacturer = ''\n",
        "  try :\n",
        "    div = soup.find('div', id = \"detailBullets_feature_div\")\n",
        "    list_items = div.find_all('li')\n",
        "    for item in list_items :\n",
        "      text = item.get_text().strip()\n",
        "      if text.startswith() == 'Manufacturer' :\n",
        "        manufacturer = text.split(':')[1].strip()\n",
        "        p_manufacturer = manufacturer.replace('\\u200e', '').strip()\n",
        "      if len(p_manufacturer):\n",
        "        break\n",
        "\n",
        "  except :\n",
        "    div = soup.find('div', class_ = 'class=\"a-expander-content a-expander-section-content a-section-expander-inner\"')\n",
        "    table_rows = div.find_all('tr')\n",
        "    for row in table_rows :\n",
        "      head = row.find('th').get_text().strip()\n",
        "      if head == 'Manufacturer' :\n",
        "        data = row.find('td').get_text().strip()\n",
        "        p_manufacturer = data.replace('&lrm;', '').strip()\n",
        "        break\n",
        "\n",
        "  return p_manufacturer"
      ]
    },
    {
      "cell_type": "code",
      "execution_count": null,
      "metadata": {
        "id": "CYFTSazZcsI5"
      },
      "outputs": [],
      "source": [
        "def ProductAsin(link) :\n",
        "  web_address = link.split('/')\n",
        "  asin = ''\n",
        "  for i in web_address[-1] :\n",
        "    if i == '?' :\n",
        "      break\n",
        "    asin += i\n",
        "  return asin"
      ]
    },
    {
      "cell_type": "code",
      "execution_count": null,
      "metadata": {
        "id": "wAvmyKsOfqQX"
      },
      "outputs": [],
      "source": [
        "def ProductDescription(soup) :\n",
        "  p_description = ''\n",
        "  try :\n",
        "    p_description = soup.find('div', class_=\"a-section a-spacing-small\").find('span').get_text()\n",
        "  except :\n",
        "    desc_div = soup.find('div', class_ = \"a-section a-spacing-medium a-spacing-top-small\")\n",
        "    desc_list = disc_div.find_all('span', 'a-list-item')\n",
        "    p_description = desc[-1].get_text()\n",
        "\n",
        "  return p_description"
      ]
    },
    {
      "cell_type": "code",
      "execution_count": null,
      "metadata": {
        "id": "6wQyqx0-e0-v"
      },
      "outputs": [],
      "source": [
        "product_table = {'Product_URL' : [],\n",
        "'Product_Name' : [],\n",
        "'Product_Price' : [],\n",
        "'Product_Rating' : [],\n",
        "'Product_Ratings_Count' : [],\n",
        "'Description' : [],\n",
        "'ASIN' : [],\n",
        "'Product_Description' : [],\n",
        "'Manufacturer' : [] }"
      ]
    },
    {
      "cell_type": "code",
      "execution_count": null,
      "metadata": {
        "id": "9FsVBXJkMa0O"
      },
      "outputs": [],
      "source": [
        "user_agent_list = ['Mozilla/5.0 (Windows NT 10.0; Win64; x64) AppleWebKit/537.36 (KHTML, like Gecko) Chrome/109.0.0.0 Safari/537.36',\n",
        "'Mozilla/5.0 (Macintosh; Intel Mac OS X 10_15_7) AppleWebKit/537.36 (KHTML, like Gecko) Chrome/109.0.0.0 Safari/537.36',\n",
        "'Mozilla/5.0 (Windows NT 10.0; Win64; x64) AppleWebKit/537.36 (KHTML, like Gecko) Chrome/108.0.0.0 Safari/537.36',\n",
        "'Mozilla/5.0 (Macintosh; Intel Mac OS X 10_15_7) AppleWebKit/537.36 (KHTML, like Gecko) Chrome/108.0.0.0 Safari/537.36',\n",
        "'Mozilla/5.0 (X11; Linux x86_64) AppleWebKit/537.36 (KHTML, like Gecko) Chrome/108.0.0.0 Safari/537.36',\n",
        "'Mozilla/5.0 (Macintosh; Intel Mac OS X 10_15_7) AppleWebKit/605.1.15 (KHTML, like Gecko) Version/16.1 Safari/605.1.15',\n",
        "'Mozilla/5.0 (Macintosh; Intel Mac OS X 13_1) AppleWebKit/605.1.15 (KHTML, like Gecko) Version/16.1 Safari/605.1.15']"
      ]
    },
    {
      "cell_type": "code",
      "execution_count": null,
      "metadata": {
        "colab": {
          "background_save": true
        },
        "id": "7ojLBY5o_Avm"
      },
      "outputs": [],
      "source": [
        "i = 1\n",
        "while i < 21 :\n",
        "  URL = \"https://www.amazon.in/s?k=bags&page=\" + str(i)\n",
        "  HEADERS = ({'UserAgent' : random.choice(user_agent_list), 'Accept-Language': 'en-US, en;q=0.5'})\n",
        "  page = requests.get(URL, headers = HEADERS)\n",
        "  if page.status_code != 200 :\n",
        "    time.sleep(3)\n",
        "    i -= 1\n",
        "    continue\n",
        "  soup = BeautifulSoup(page.content, \"lxml\")\n",
        "  links = soup.find_all('a', class_ = 'a-link-normal s-underline-text s-underline-link-text s-link-style a-text-normal')\n",
        "  product_links = []\n",
        "  for link in links :\n",
        "    product_links.append(\"https://www.amazon.in/\"+link.get('href'))\n",
        "  for product in product_links :\n",
        "    HEADERS = ({'UserAgent' : random.choice(user_agent_list), 'Accept-Language': 'en-US, en;q=0.5'})\n",
        "\n",
        "    product_page = requests.get(product, headers = HEADERS)\n",
        "    if product_page.status_code != 200 :\n",
        "      time.sleep(3)\n",
        "      continue\n",
        "    product_soup = BeautifulSoup(product_page.content, \"lxml\")\n",
        "\n",
        "    product_table['Product_URL'].append(product)\n",
        "    product_table['Product_Name'].append(ProductName(product_soup))\n",
        "    product_table['Product_Price'].append(ProductPrice(product_soup))\n",
        "    product_table['Product_Rating'].append(ProductRating(product_soup))\n",
        "    product_table['Product_Ratings_Count'].append(ProductRatingCount(product_soup))\n",
        "    product_table['Description'].append(Description(product_soup))\n",
        "    product_table['ASIN'].append(ProductAsin(product))\n",
        "    product_table['Product_Description'].append(ProductDescription(product_soup))\n",
        "    product_table['Manufacturer'].append(ProductManufacturer(product_soup))\n",
        "    time.sleep(3)\n",
        "    i += 1\n",
        "    #   Mozilla/5.0 (X11; Linux x86_64) AppleWebKit/537.36 (KHTML, like Gecko) Chrome/77.0.3865.75 Safari/537.36\n",
        "    #   Mozilla/5.0 (X11; Linux x86_64; rv:109.0) Gecko/20100101 Firefox/115.0\n",
        "    #   Mozilla/5.0 (X11; Linux x86_64; rv:109.0) Gecko/20100101 Firefox/114.0\n",
        "    #   Mozilla/5.0 (Windows NT 10.0; Win64; x64) AppleWebKit/537.36 (KHTML, like Gecko) Chrome/111.0.0.0 Safari/537.36\n",
        "\n",
        "\n"
      ]
    },
    {
      "cell_type": "code",
      "execution_count": null,
      "metadata": {
        "id": "Lm91X8B6P12a"
      },
      "outputs": [],
      "source": [
        "amazon_products_firstpage = pd.DataFrame.from_dict(product_table)\n",
        "amazon_products_firstpage"
      ]
    }
  ],
  "metadata": {
    "colab": {
      "provenance": []
    },
    "kernelspec": {
      "display_name": "Python 3",
      "name": "python3"
    },
    "language_info": {
      "name": "python"
    }
  },
  "nbformat": 4,
  "nbformat_minor": 0
}